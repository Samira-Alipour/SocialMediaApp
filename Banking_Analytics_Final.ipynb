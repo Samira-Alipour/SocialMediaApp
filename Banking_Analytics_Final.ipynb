{
  "nbformat": 4,
  "nbformat_minor": 0,
  "metadata": {
    "colab": {
      "name": "Banking_Analytics_Final.ipynb",
      "provenance": [],
      "authorship_tag": "ABX9TyP51Msloj3oYa2N/UxPcKO0",
      "include_colab_link": true
    },
    "kernelspec": {
      "name": "python3",
      "display_name": "Python 3"
    },
    "language_info": {
      "name": "python"
    }
  },
  "cells": [
    {
      "cell_type": "markdown",
      "metadata": {
        "id": "view-in-github",
        "colab_type": "text"
      },
      "source": [
        "<a href=\"https://colab.research.google.com/github/Samira-Alipour/SocialMediaApp/blob/main/Banking_Analytics_Final.ipynb\" target=\"_parent\"><img src=\"https://colab.research.google.com/assets/colab-badge.svg\" alt=\"Open In Colab\"/></a>"
      ]
    },
    {
      "cell_type": "code",
      "metadata": {
        "colab": {
          "base_uri": "https://localhost:8080/"
        },
        "id": "bcV9wB_72Z1i",
        "outputId": "1bb9cc7f-0147-4a34-9565-63c90484a2a6"
      },
      "source": [
        "from google.colab import drive\n",
        "drive.mount('/content/drive')"
      ],
      "execution_count": null,
      "outputs": [
        {
          "output_type": "stream",
          "name": "stdout",
          "text": [
            "Drive already mounted at /content/drive; to attempt to forcibly remount, call drive.mount(\"/content/drive\", force_remount=True).\n"
          ]
        }
      ]
    },
    {
      "cell_type": "code",
      "metadata": {
        "id": "JnRL1IZL2un-"
      },
      "source": [
        "# df1 is the dataframe for bonds and df1 is the dataframe for teh rates\n",
        "\n",
        "import pandas as pd\n",
        "import numpy as np\n",
        "import os\n",
        "\n",
        "\n",
        "filename = '/content/drive/MyDrive/DataClean2021_update_data.xlsx'\n",
        "filename1 = '/content/drive/MyDrive/DataClean2021.xlsx'\n",
        "\n",
        "\n",
        "df = pd.read_excel(filename, 0)\n",
        "df1 = pd.read_excel(filename1, 1)\n",
        "\n"
      ],
      "execution_count": null,
      "outputs": []
    },
    {
      "cell_type": "code",
      "metadata": {
        "colab": {
          "base_uri": "https://localhost:8080/"
        },
        "id": "NR8Eb1153AYU",
        "outputId": "f7ed5f67-cb7f-496a-d97d-5bc7e3feaab7"
      },
      "source": [
        "!pip install numpy_financial\n",
        "import numpy_financial as npf\n",
        "import datetime"
      ],
      "execution_count": null,
      "outputs": [
        {
          "output_type": "stream",
          "name": "stdout",
          "text": [
            "Collecting numpy_financial\n",
            "  Downloading numpy_financial-1.0.0-py3-none-any.whl (14 kB)\n",
            "Requirement already satisfied: numpy>=1.15 in /usr/local/lib/python3.7/dist-packages (from numpy_financial) (1.19.5)\n",
            "Installing collected packages: numpy-financial\n",
            "Successfully installed numpy-financial-1.0.0\n"
          ]
        }
      ]
    },
    {
      "cell_type": "markdown",
      "metadata": {
        "id": "jEeR6gWIXqGK"
      },
      "source": [
        "This is a function to return bond parameters, if index==1 it will also return the calculated maturity.\n"
      ]
    },
    {
      "cell_type": "code",
      "metadata": {
        "id": "zJUi2j403OQN"
      },
      "source": [
        "def return_bond_param(bond_info, index = 0):\n",
        "\n",
        "    if bond_info['PaymentPeriod'] not in ['Annually','SemiAnnually', 'Quarterly']:\n",
        "        print(\"The freq of the bond is unknown\")\n",
        "  \n",
        "    if bond_info['PaymentPeriod'] == 'Annually':\n",
        "        freq = 1\n",
        "    elif bond_info['PaymentPeriod'] == 'SemiAnnually':\n",
        "        freq = 2\n",
        "    elif bond_info['PaymentPeriod'] == 'Quarterly':\n",
        "        freq = 4\n",
        "    else:\n",
        "        freq = None\n",
        "        print(\"freq is None\")\n",
        "\n",
        "    Spread = bond_info['Spread']\n",
        "    FaceValue = bond_info['FaceValue']\n",
        "    YearlyRate = bond_info['YearlyRate']\n",
        "    Price0 = bond_info['PriceAtCoupon0(%)'] / 100\n",
        "    PurchaseDate0 = bond_info['PurchaseDate']\n",
        "    PurchaseDate = datetime.date(PurchaseDate0.year, PurchaseDate0.month, PurchaseDate0.day)\n",
        "    Corporate = bond_info['Corporate']\n",
        "    CurrentCouponNumbers = bond_info['CurrentCouponNumbers']\n",
        "    if index == 1:\n",
        "      maturity_calculated = bond_info['maturity_calculated']\n",
        "    else:\n",
        "      maturity_calculated = None\n",
        "\n",
        "    return FaceValue, YearlyRate, Spread, Price0, freq, PurchaseDate, Corporate, CurrentCouponNumbers, maturity_calculated\n"
      ],
      "execution_count": null,
      "outputs": []
    },
    {
      "cell_type": "markdown",
      "metadata": {
        "id": "KqOAt3CVYGpN"
      },
      "source": [
        "This is the function to retrive the correponding rates for an specific bond. The output will only have curve points that are needed for pricing the specific bond, depending on the maturity and frequency of coupon payments."
      ]
    },
    {
      "cell_type": "code",
      "metadata": {
        "id": "gaafCPDs3X-j"
      },
      "source": [
        "\n",
        "def get_spot_rate(curve, freq, maturity, curve_freq = 4, max_maturity = 30):\n",
        "    if len(curve) != curve_freq * max_maturity:\n",
        "        print('The length of the curve is not correct')\n",
        "    else:\n",
        "        spot_rate = curve[int(curve_freq/freq-1):int(maturity*curve_freq):int(curve_freq/freq)]\n",
        "\n",
        "    return spot_rate\n"
      ],
      "execution_count": null,
      "outputs": []
    },
    {
      "cell_type": "markdown",
      "metadata": {
        "id": "dNH9vlNSYhnj"
      },
      "source": [
        "Main bond pricing function"
      ]
    },
    {
      "cell_type": "code",
      "metadata": {
        "id": "uokb5PoF3wXn"
      },
      "source": [
        "def BondPrice(spot_rate, Maturity, rate, spread, FV, freq=1, CurrentCouponNumbers=0):\n",
        "    Number_of_coupons = int(Maturity * freq) \n",
        "    if Number_of_coupons>0:\n",
        "        rate = rate / freq\n",
        "\n",
        "        y = np.zeros(Number_of_coupons + 1)\n",
        "\n",
        "        y[1:] = spot_rate / freq  + spread  \n",
        "        payment_series = np.repeat(rate, Number_of_coupons+1)\n",
        "        payment_series[0] -= rate \n",
        "        payment_series[Number_of_coupons]  += 1 \n",
        "\n",
        "\n",
        "        if CurrentCouponNumbers>0:\n",
        "            payment_series = payment_series[CurrentCouponNumbers:]\n",
        "            payment_series[0] = 0\n",
        "            y = y[:-CurrentCouponNumbers]\n",
        "\n",
        "\n",
        "        price = npf.npv(y, payment_series)\n",
        "    else:\n",
        "        price = 9999\n",
        "    return price\n"
      ],
      "execution_count": null,
      "outputs": []
    },
    {
      "cell_type": "markdown",
      "metadata": {
        "id": "aJpY3wMMYkms"
      },
      "source": [
        "Function to return the time between the last copoun date and Todays Date; in this case 25 August 2021\n"
      ]
    },
    {
      "cell_type": "code",
      "metadata": {
        "id": "by0TmszT36jj"
      },
      "source": [
        "def return_time_from_last_coupon(TodayDate, PurchaseDate, freq, CurrentCouponNumbers):\n",
        "\n",
        "    freq_days = 365 / freq\n",
        "    \n",
        "    date_difference = TodayDate - PurchaseDate\n",
        "\n",
        "    time_from_last_coupon = (date_difference.days - CurrentCouponNumbers * freq_days) % freq_days\n",
        "\n",
        "    return time_from_last_coupon\n"
      ],
      "execution_count": null,
      "outputs": []
    },
    {
      "cell_type": "markdown",
      "metadata": {
        "id": "TaocAd7ZYvv3"
      },
      "source": [
        "A function to return the discount factor to account for the time between the last copoun payment and Todays date; In this case 25 August 2021"
      ]
    },
    {
      "cell_type": "code",
      "metadata": {
        "id": "n5oIpxuT4MYQ"
      },
      "source": [
        "def return_discount_factor(spot_rates, time_from_last_coupon, Spread, freq):\n",
        "\n",
        "    K = time_from_last_coupon/(365/freq)\n",
        "\n",
        "    discount_facror = (1 + Spread + spot_rates[1])**K\n",
        "    return discount_facror\n"
      ],
      "execution_count": null,
      "outputs": []
    },
    {
      "cell_type": "markdown",
      "metadata": {
        "id": "fPc0GX8gY3m6"
      },
      "source": [
        "# Part (a) of the assignment; Using grid search method to find the maturity of the bond and output it to 'Output_Calculated_Maturities.xlsx' file\n"
      ]
    },
    {
      "cell_type": "code",
      "metadata": {
        "id": "6OYtc9zG4sIj"
      },
      "source": [
        "\n",
        "grid_search_freq = 4\n",
        "Max_maturity = 30\n",
        "grid_search = np.arange(1, grid_search_freq * Max_maturity + 1)/grid_search_freq\n",
        "\n",
        "derived_maturity = np.zeros(len(df['PurchaseDate']))\n",
        "grid_search_error = np.zeros(len(df['PurchaseDate']))\n",
        "Total_Coupon_Number = np.zeros(len(df['PurchaseDate']))\n",
        "\n",
        "\n",
        "for kk, bond in df.iterrows():\n",
        "  FaceValue, YearlyRate, Spread, Price0, freq, PurchaseDate, Corporate, CurrentCouponNumbers, maturity_calculated = return_bond_param(bond)\n",
        "\n",
        "  for ii, i in enumerate(df1['Date']):\n",
        "    if i == PurchaseDate:\n",
        "      curve = df1.loc[ii][2:].values.astype('float64')\n",
        "\n",
        "  price_search = [BondPrice(get_spot_rate(curve,freq,d), d, YearlyRate, Spread, FaceValue, freq, 0) for dd, d in enumerate(grid_search)]\n",
        "  price_search = np.array(price_search).astype('float64')\n",
        "  delta = np.abs(price_search - Price0)\n",
        "\n",
        "  maturity_result = np.min(grid_search[np.where(delta == np.min(delta))])\n",
        "  P = BondPrice(get_spot_rate(curve,freq,maturity_result), maturity_result, YearlyRate, Spread, FaceValue, freq)\n",
        "  derived_maturity[kk] = maturity_result\n",
        "  grid_search_error[kk] = P - Price0\n",
        "  Total_Coupon_Number[kk] = maturity_result * freq\n",
        "    \n",
        "\n",
        "df['maturity_calculated'] = derived_maturity\n",
        "df['grid_search_error'] = grid_search_error\n",
        "df['Total_Coupon_Number'] = Total_Coupon_Number\n",
        "df.to_excel(r'/content/drive/MyDrive/Output_Calculated_Maturities.xlsx', index = False)"
      ],
      "execution_count": null,
      "outputs": []
    },
    {
      "cell_type": "markdown",
      "metadata": {
        "id": "CTzdNlCRalsV"
      },
      "source": [
        "df2 is the output from part (a) of the assignment. the two columns \"**maturity_calculated**\" refers to the maturities and \"**grid_search_error**\" refers to the error from grid search method."
      ]
    },
    {
      "cell_type": "code",
      "metadata": {
        "id": "KIBnauvxJJEO",
        "colab": {
          "base_uri": "https://localhost:8080/"
        },
        "outputId": "f317f828-67b9-4b5e-da17-21944118317a"
      },
      "source": [
        "filename2 = '/content/drive/MyDrive/Output_Calculated_Maturities.xlsx'\n",
        "\n",
        "df2 = pd.read_excel(filename2, 0)\n",
        "df2['maturity_calculated']"
      ],
      "execution_count": null,
      "outputs": [
        {
          "output_type": "execute_result",
          "data": {
            "text/plain": [
              "0         30\n",
              "1         27\n",
              "2         27\n",
              "3         20\n",
              "4          9\n",
              "          ..\n",
              "124804    22\n",
              "124805    21\n",
              "124806    22\n",
              "124807    26\n",
              "124808    22\n",
              "Name: maturity_calculated, Length: 124809, dtype: int64"
            ]
          },
          "metadata": {},
          "execution_count": 61
        }
      ]
    },
    {
      "cell_type": "code",
      "metadata": {
        "colab": {
          "base_uri": "https://localhost:8080/"
        },
        "id": "F8-3WH_zPVWk",
        "outputId": "3b807353-bb32-4af1-e2a0-800442858e0b"
      },
      "source": [
        "df2.columns"
      ],
      "execution_count": null,
      "outputs": [
        {
          "output_type": "execute_result",
          "data": {
            "text/plain": [
              "Index(['Unnamed: 0', 'PurchaseDate', 'PriceAtCoupon0(%)', 'PaymentPeriod',\n",
              "       'YearlyRate', 'Spread', 'CurrentCouponNumbers', 'FaceValue',\n",
              "       'Corporate', 'CouponRate', 'maturity_calculated', 'grid_search_error',\n",
              "       'Total_Coupon_Number'],\n",
              "      dtype='object')"
            ]
          },
          "metadata": {},
          "execution_count": 59
        }
      ]
    },
    {
      "cell_type": "markdown",
      "metadata": {
        "id": "J69yTyGKZHUT"
      },
      "source": [
        "# Part (b) of the assignmnet is implemented to derive the present value for 25/08/2021\n"
      ]
    },
    {
      "cell_type": "code",
      "metadata": {
        "colab": {
          "base_uri": "https://localhost:8080/"
        },
        "id": "VfCZnGiIJXwJ",
        "outputId": "c9f22f48-ef70-4381-d4d0-83493e35e6e5"
      },
      "source": [
        "\n",
        "TodaysDate = datetime.date(2021,8,25)\n",
        "\n",
        "August_Price = np.zeros(len(df2['PurchaseDate']))\n",
        "\n",
        "for ii, i in enumerate(df1['Date']):\n",
        "    if datetime.date(i.year, i.month, i.day) == TodaysDate:\n",
        "        print('i %s TodaysDate %s' %(i,TodaysDate))\n",
        "        curve = df1.loc[ii][2:].values.astype('float64')\n",
        "\n",
        "for kk, bond in df2.iterrows():\n",
        "  FaceValue, YearlyRate, Spread, Price0, freq, PurchaseDate, Corporate, CurrentCouponNumbers, maturity_calculated = return_bond_param(bond, 1)\n",
        "\n",
        "  spot_rates = get_spot_rate(curve, freq, maturity_calculated)\n",
        "\n",
        "  time_from_last_coupon = return_time_from_last_coupon(TodaysDate, PurchaseDate, freq, CurrentCouponNumbers)\n",
        "\n",
        "  discount_factor = return_discount_factor(spot_rates, time_from_last_coupon, Spread, freq)\n",
        "\n",
        "  price = BondPrice(spot_rates, maturity_calculated, YearlyRate, Spread, FaceValue, freq, CurrentCouponNumbers)\n",
        "\n",
        "  price_discounted_back = price * discount_factor\n",
        "\n",
        "  August_Price[kk] = price_discounted_back\n",
        "\n",
        "\n",
        "df2['August_Price(%)'] = August_Price\n",
        "df2.to_excel(r'/content/drive/MyDrive/Output_Calculated_August_Price.xlsx', index = False)"
      ],
      "execution_count": null,
      "outputs": [
        {
          "output_type": "stream",
          "name": "stdout",
          "text": [
            "i 2021-08-25 00:00:00 TodaysDate 2021-08-25\n"
          ]
        }
      ]
    },
    {
      "cell_type": "markdown",
      "metadata": {
        "id": "usDHg7I8qXKl"
      },
      "source": [
        "Here **August_Price(%)** column refers to the calculated price for 25 August 2021. \n"
      ]
    },
    {
      "cell_type": "code",
      "metadata": {
        "colab": {
          "base_uri": "https://localhost:8080/"
        },
        "id": "7JsIBwj-cLn0",
        "outputId": "225feaf9-dc95-4224-bcaf-cb5734f95949"
      },
      "source": [
        "filename3 = '/content/drive/MyDrive/Output_Calculated_August_Price.xlsx'\n",
        "\n",
        "df3 = pd.read_excel(filename3, 0)\n",
        "print(df3.head)"
      ],
      "execution_count": null,
      "outputs": [
        {
          "output_type": "stream",
          "name": "stdout",
          "text": [
            "<bound method NDFrame.head of         Unnamed: 0 PurchaseDate  ...  Total_Coupon_Number August_Price(%)\n",
            "0                0   2018-12-12  ...                   30        1.356180\n",
            "1                1   2018-12-12  ...                   54        0.713410\n",
            "2                2   2018-12-12  ...                   54        0.978663\n",
            "3                3   2018-12-12  ...                   40        0.994466\n",
            "4                4   2018-12-12  ...                    9        1.209320\n",
            "...            ...          ...  ...                  ...             ...\n",
            "124804      124804   2005-09-07  ...                   22        1.291379\n",
            "124805      124805   2005-09-07  ...                   42        1.118472\n",
            "124806      124806   2005-09-07  ...                   22        1.269052\n",
            "124807      124807   2005-09-07  ...                   52        1.039628\n",
            "124808      124808   2005-09-07  ...                   44        1.087372\n",
            "\n",
            "[124809 rows x 14 columns]>\n"
          ]
        }
      ]
    },
    {
      "cell_type": "markdown",
      "metadata": {
        "id": "mSz8_pvqq4n8"
      },
      "source": [
        "The figure shows the price change of the bonds (%), compared to their purchase price. We can see that most of the bonds have increased in value, due to the low-risk free rates.  \n"
      ]
    },
    {
      "cell_type": "code",
      "metadata": {
        "colab": {
          "base_uri": "https://localhost:8080/",
          "height": 281
        },
        "id": "iQ7WmCTzLzEm",
        "outputId": "a82b4265-fcbc-4909-ab35-45b88cba6b1f"
      },
      "source": [
        "\n",
        "import matplotlib.pyplot as plt\n",
        "%matplotlib inline\n",
        "\n",
        "fig, ax = plt.subplots()\n",
        "dp = df3['August_Price(%)'] - df3['PriceAtCoupon0(%)'].values/100  \n",
        "\n",
        "plt.plot_date(df3['PurchaseDate'], dp ,'*')\n",
        "ax.set_title('Price change in % between the purchase date and August 25, 2021')\n",
        "plt.show()"
      ],
      "execution_count": null,
      "outputs": [
        {
          "output_type": "display_data",
          "data": {
            "image/png": "[encoded data removed]",
            "text/plain": [
              "<Figure size 432x288 with 1 Axes>"
            ]
          },
          "metadata": {
            "needs_background": "light"
          }
        }
      ]
    },
    {
      "cell_type": "markdown",
      "metadata": {
        "id": "TDVTv0fcZm4N"
      },
      "source": [
        "# Part (c) of the assignment to calculate the capital.\n"
      ]
    },
    {
      "cell_type": "markdown",
      "metadata": {
        "id": "oZcjJRTsZvzk"
      },
      "source": [
        "This section computes the annualized spread for the bonds\n"
      ]
    },
    {
      "cell_type": "code",
      "metadata": {
        "id": "Wq3wLE3aQc6U"
      },
      "source": [
        "Anualized_Spread = np.zeros(len(df3['PurchaseDate']))\n",
        "\n",
        "for kk, bond in df3.iterrows():\n",
        "  FaceValue, YearlyRate, Spread, Price0, freq, PurchaseDate, Corporate, CurrentCouponNumbers, maturity_calculated = return_bond_param(bond, 1)\n",
        "\n",
        "  Anualized_Spread[kk] = freq * Spread\n",
        "\n",
        "df3['Anualized_Spread'] = Anualized_Spread\n"
      ],
      "execution_count": null,
      "outputs": []
    },
    {
      "cell_type": "markdown",
      "metadata": {
        "id": "Vq8gb-E2ZyX4"
      },
      "source": [
        "Histogram of annual spreads of bons, using to get PDs"
      ]
    },
    {
      "cell_type": "code",
      "metadata": {
        "colab": {
          "base_uri": "https://localhost:8080/",
          "height": 265
        },
        "id": "5wc66rbUbHqY",
        "outputId": "66d29bd8-0f98-4404-aca0-048bb1764e29"
      },
      "source": [
        "plt.hist(Anualized_Spread, 90)\n",
        "plt.show()"
      ],
      "execution_count": null,
      "outputs": [
        {
          "output_type": "display_data",
          "data": {
            "image/png": "[encoded data removed]",
            "text/plain": [
              "<Figure size 432x288 with 1 Axes>"
            ]
          },
          "metadata": {
            "needs_background": "light"
          }
        }
      ]
    },
    {
      "cell_type": "markdown",
      "metadata": {
        "id": "L-TxdmZIZ5hc"
      },
      "source": [
        "A function to compute the percentiles on annualized spreads for PD calculations\n"
      ]
    },
    {
      "cell_type": "code",
      "metadata": {
        "colab": {
          "base_uri": "https://localhost:8080/"
        },
        "id": "Pk0groHzfsvZ",
        "outputId": "919224f7-4546-41db-af43-6ff1a60a9c7e"
      },
      "source": [
        "\n",
        "percentiles = np.zeros(7)\n",
        "percentiles[0] =np.percentile(Anualized_Spread, 5)\n",
        "percentiles[1] =np.percentile(Anualized_Spread, 20)\n",
        "percentiles[2] =np.percentile(Anualized_Spread, 40)\n",
        "percentiles[3] =np.percentile(Anualized_Spread, 60)\n",
        "percentiles[4] =np.percentile(Anualized_Spread, 75)\n",
        "percentiles[5] =np.percentile(Anualized_Spread, 90)\n",
        "percentiles[6] =np.percentile(Anualized_Spread, 100)\n",
        "\n",
        "print(percentiles)"
      ],
      "execution_count": null,
      "outputs": [
        {
          "output_type": "stream",
          "name": "stdout",
          "text": [
            "[0.01120205 0.03379628 0.05847847 0.08435983 0.11750605 0.17286559\n",
            " 0.6       ]\n"
          ]
        }
      ]
    },
    {
      "cell_type": "markdown",
      "metadata": {
        "id": "drTWjX_3aH_F"
      },
      "source": [
        "A function to return PD based on annualized spreads \n"
      ]
    },
    {
      "cell_type": "code",
      "metadata": {
        "id": "M8KJiHynd3O5"
      },
      "source": [
        "def return_bond_PD(anualized_spread, percentiles):\n",
        "  PD = 0\n",
        "  if anualized_spread<=percentiles[0]:\n",
        "    PD = 0.001\n",
        "  elif anualized_spread<=percentiles[1] and anualized_spread>percentiles[0]:\n",
        "    PD = 0.01\n",
        "  elif anualized_spread<=percentiles[2] and anualized_spread>percentiles[1]:\n",
        "    PD = 0.12\n",
        "  elif anualized_spread<=percentiles[3] and anualized_spread>percentiles[2]:\n",
        "    PD = 0.36\n",
        "  elif anualized_spread<=percentiles[4] and anualized_spread>percentiles[3]:\n",
        "    PD = 0.52\n",
        "  elif anualized_spread<=percentiles[5] and anualized_spread>percentiles[4]:\n",
        "    PD = 0.75\n",
        "  elif anualized_spread>percentiles[5]:\n",
        "    PD = 0.85\n",
        "  if anualized_spread == percentiles[6]:\n",
        "    PD = 1\n",
        "  return PD"
      ],
      "execution_count": null,
      "outputs": []
    },
    {
      "cell_type": "markdown",
      "metadata": {
        "id": "UBI3YeAGaPn4"
      },
      "source": [
        "This section computes the PD, annualized spreads\n",
        "\n",
        "> Indented block\n",
        "\n",
        "\n"
      ]
    },
    {
      "cell_type": "code",
      "metadata": {
        "id": "1aYDOKt4ceLx"
      },
      "source": [
        "PD = np.zeros(len(df3['PurchaseDate']))\n",
        "PD_floor = 0.0003\n",
        "for kk, bond in df3.iterrows():\n",
        "  FaceValue, YearlyRate, Spread, Price0, freq, PurchaseDate, Corporate, CurrentCouponNumbers, maturity_calculated = return_bond_param(bond, 1)\n",
        "\n",
        "  anualized_spread = freq * Spread\n",
        "  bond_PD = return_bond_PD(anualized_spread, percentiles)\n",
        "  if bond_PD < PD_floor:\n",
        "    bond_PD = PD_floor\n",
        "  PD[kk] = bond_PD\n",
        "\n",
        "df3['PD'] = PD\n"
      ],
      "execution_count": null,
      "outputs": []
    },
    {
      "cell_type": "markdown",
      "metadata": {
        "id": "l0QVLOyXgxyF"
      },
      "source": [
        "LGD = For sunordinated bonds, LGD of 75% is used\n",
        "\n",
        "PD = PD is the greater\n",
        "of the one-year PD associated with the internal borrower grade to which that exposure is\n",
        "assigned, or 0.03%\n",
        "\n",
        "https://www.osfi-bsif.gc.ca/Eng/fi-if/rg-ro/gdn-ort/gl-ld/Pages/CAR19_chpt6.aspx#ToC63Rulesforcorporate%2csovereign%2candbankexposures\n"
      ]
    },
    {
      "cell_type": "markdown",
      "metadata": {
        "id": "Dk63SBMquwEs"
      },
      "source": [
        "Function to return capital capital_requirement"
      ]
    },
    {
      "cell_type": "code",
      "metadata": {
        "id": "pSZEAo2xmoXE"
      },
      "source": [
        "from scipy.stats import norm\n",
        "def capital_requirement(PD, LGD, M):\n",
        "  R =  0.12 * ( (1 - np.exp(-50 * PD)) / (1 - np.exp(-50)) )\n",
        "  R += 0.24 * (1 - ( (1 - np.exp(-50 * PD)) / (1 - np.exp(-50)) ) )\n",
        "  K = norm.cdf(np.sqrt( (1 - R) ** (-1) ) * norm.ppf(PD) + \n",
        "               np.sqrt( R / (1 - R) ) * norm.ppf(0.999) ) - PD\n",
        "  b=(0.11852 - 0.05478*np.log( PD ))**2\n",
        "  Ma=(1+(M-2.5)*b)/(1-1.5*b)\n",
        "  K = K * LGD *Ma\n",
        "  return(K) "
      ],
      "execution_count": null,
      "outputs": []
    },
    {
      "cell_type": "code",
      "metadata": {
        "colab": {
          "base_uri": "https://localhost:8080/"
        },
        "id": "8dfxVSQbv4Xi",
        "outputId": "1d742b96-2c0e-45b5-94ec-ac330a4b23b3"
      },
      "source": [
        "print(df3.head)"
      ],
      "execution_count": null,
      "outputs": [
        {
          "output_type": "stream",
          "name": "stdout",
          "text": [
            "<bound method NDFrame.head of         Unnamed: 0 PurchaseDate  ...  Anualized_Spread    PD\n",
            "0                0   2018-12-12  ...          0.048157  0.12\n",
            "1                1   2018-12-12  ...          0.170899  0.75\n",
            "2                2   2018-12-12  ...          0.054181  0.12\n",
            "3                3   2018-12-12  ...          0.053833  0.12\n",
            "4                4   2018-12-12  ...          0.034201  0.12\n",
            "...            ...          ...  ...               ...   ...\n",
            "124804      124804   2005-09-07  ...          0.071007  0.36\n",
            "124805      124805   2005-09-07  ...          0.040119  0.12\n",
            "124806      124806   2005-09-07  ...          0.014886  0.01\n",
            "124807      124807   2005-09-07  ...          0.072272  0.36\n",
            "124808      124808   2005-09-07  ...          0.056948  0.12\n",
            "\n",
            "[124809 rows x 16 columns]>\n"
          ]
        }
      ]
    },
    {
      "cell_type": "markdown",
      "metadata": {
        "id": "UizFjg653tp3"
      },
      "source": [
        "Here the main calculation of **provisions** and **unexpected** loss happens"
      ]
    },
    {
      "cell_type": "code",
      "metadata": {
        "id": "lIUZgyykMVEH"
      },
      "source": [
        "Maturities = df3['maturity_calculated'].values\n",
        "\n",
        "EAD =  df3['FaceValue'].values * df3['August_Price(%)'].values\n",
        "PD = df3['PD'].values\n",
        "LGD = 0.75\n",
        "\n",
        "K = capital_requirement(PD, LGD, Maturities)\n",
        "Capital_Requirements = capital_requirement(PD, LGD, Maturities) * EAD\n",
        "\n",
        "Provisions = PD * LGD * EAD\n",
        "\n",
        "Risk_Weighted_Assets = np.sum(Capital_Requirements) / (0.115)\n",
        "\n"
      ],
      "execution_count": null,
      "outputs": []
    },
    {
      "cell_type": "code",
      "metadata": {
        "colab": {
          "base_uri": "https://localhost:8080/",
          "height": 298
        },
        "id": "vm8C3kqTCsCg",
        "outputId": "631298a2-36a4-4116-8b11-93448c96ed7f"
      },
      "source": [
        "fig, ax = plt.subplots()\n",
        "plt.hist(K, 90)\n",
        "\n",
        "ax.set_title('Histogram of K')"
      ],
      "execution_count": null,
      "outputs": [
        {
          "output_type": "execute_result",
          "data": {
            "text/plain": [
              "Text(0.5, 1.0, 'Histogram of K')"
            ]
          },
          "metadata": {},
          "execution_count": 52
        },
        {
          "output_type": "display_data",
          "data": {
            "image/png": "[encoded data removed]",
            "text/plain": [
              "<Figure size 432x288 with 1 Axes>"
            ]
          },
          "metadata": {
            "needs_background": "light"
          }
        }
      ]
    },
    {
      "cell_type": "markdown",
      "metadata": {
        "id": "mTkUxjF76Rro"
      },
      "source": [
        "Histograms of Capital Requirement and Provisions"
      ]
    },
    {
      "cell_type": "code",
      "metadata": {
        "colab": {
          "base_uri": "https://localhost:8080/",
          "height": 298
        },
        "id": "AP-Cv9a239kb",
        "outputId": "153a72b5-f0b7-4730-fdaa-7007b05d05a2"
      },
      "source": [
        "fig, ax = plt.subplots()\n",
        "plt.hist(Provisions, 90)\n",
        "\n",
        "ax.set_title('Histogram of Provisions')\n"
      ],
      "execution_count": null,
      "outputs": [
        {
          "output_type": "execute_result",
          "data": {
            "text/plain": [
              "Text(0.5, 1.0, 'Histogram of Provisions')"
            ]
          },
          "metadata": {},
          "execution_count": 53
        },
        {
          "output_type": "display_data",
          "data": {
            "image/png": "[encoded data removed]",
            "text/plain": [
              "<Figure size 432x288 with 1 Axes>"
            ]
          },
          "metadata": {
            "needs_background": "light"
          }
        }
      ]
    },
    {
      "cell_type": "code",
      "metadata": {
        "colab": {
          "base_uri": "https://localhost:8080/",
          "height": 298
        },
        "id": "d93M14Hh5HBx",
        "outputId": "a3c91afe-93a3-4562-b936-5f979ddef239"
      },
      "source": [
        "fig, ax = plt.subplots()\n",
        "ax.hist(Capital_Requirements, 90)\n",
        "\n",
        "ax.set_title('Histogram of Capital_Requirements')\n"
      ],
      "execution_count": null,
      "outputs": [
        {
          "output_type": "execute_result",
          "data": {
            "text/plain": [
              "Text(0.5, 1.0, 'Histogram of Capital_Requirements')"
            ]
          },
          "metadata": {},
          "execution_count": 54
        },
        {
          "output_type": "display_data",
          "data": {
            "image/png": "[encoded data removed]",
            "text/plain": [
              "<Figure size 432x288 with 1 Axes>"
            ]
          },
          "metadata": {
            "needs_background": "light"
          }
        }
      ]
    },
    {
      "cell_type": "markdown",
      "metadata": {
        "id": "plkxFm2J6GZp"
      },
      "source": [
        "**Total Capital Requirement and Provisions**"
      ]
    },
    {
      "cell_type": "code",
      "metadata": {
        "colab": {
          "base_uri": "https://localhost:8080/"
        },
        "id": "Ad1OV9tg5dGs",
        "outputId": "3db0657d-56c2-4d1e-d299-d452054ca87d"
      },
      "source": [
        "print('Total Provisions is: %f million dollars' %(np.sum(Provisions)/1000000))\n",
        "print('Total Capital Requirements is: %f million dollars' %(np.sum(Capital_Requirements)//1000000))"
      ],
      "execution_count": null,
      "outputs": [
        {
          "output_type": "stream",
          "name": "stdout",
          "text": [
            "Total Provisions is: 3090.176997 million dollars\n",
            "Total Capital Requirements is: 5823.000000 million dollars\n"
          ]
        }
      ]
    },
    {
      "cell_type": "code",
      "metadata": {
        "id": "gNVQyeQV6_7b"
      },
      "source": [
        "\n",
        "df3['Provisions'] = Provisions\n",
        "df3['Capital_Requirements'] = Capital_Requirements\n",
        "\n",
        "df3.to_excel(r'/content/drive/MyDrive/Output_Assignment1.xlsx', index = False)"
      ],
      "execution_count": null,
      "outputs": []
    }
  ]
}